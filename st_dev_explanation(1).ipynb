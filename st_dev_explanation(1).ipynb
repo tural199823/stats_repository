{
 "cells": [
  {
   "cell_type": "markdown",
   "id": "aa1eded7",
   "metadata": {},
   "source": [
    "This experiment demonstrates the practical impact of Bessel's correction (n−1n−1) in the sample standard deviation formula. It highlights how sample size affects the accuracy of statistical estimators:\n",
    "\n",
    "    For smaller samples, the correction is more important, as n−1n−1 consistently outperforms nn.\n",
    "    For larger samples, the difference diminishes, and nn performs almost as well as n−1n−1.\n",
    "\n",
    "This aligns with statistical theory: as sample size increases, the bias corrected by n−1n−1 becomes negligible because (n−1)/n→1(n−1)/n→1."
   ]
  },
  {
   "cell_type": "code",
   "execution_count": 12,
   "id": "b05999b9",
   "metadata": {},
   "outputs": [
    {
     "name": "stdout",
     "output_type": "stream",
     "text": [
      "Sample size 10: n-1 performed better in 65.00% of trials.\n",
      "Sample size 20: n-1 performed better in 60.00% of trials.\n",
      "Sample size 50: n-1 performed better in 55.40% of trials.\n",
      "Sample size 100: n-1 performed better in 50.20% of trials.\n",
      "Sample size 200: n-1 performed better in 49.60% of trials.\n"
     ]
    }
   ],
   "source": [
    "import numpy as np\n",
    "from random import sample\n",
    "\n",
    "# Number of trials per sample size\n",
    "trials = 500\n",
    "\n",
    "# Range of sample sizes to test\n",
    "sample_sizes = [10, 20, 50, 100, 200]\n",
    "\n",
    "# Store results\n",
    "results = []\n",
    "\n",
    "# Run the experiment for each sample size\n",
    "for sample_size in sample_sizes:\n",
    "    count_n_minus_1_better = 0\n",
    "    \n",
    "    for _ in range(trials):\n",
    "        # Generate random numbers as the population\n",
    "        population = np.random.randn(3000)\n",
    "        \n",
    "        # Calculate the true population standard deviation\n",
    "        population_std = population.std()\n",
    "        \n",
    "        # Initialize lists to store absolute errors\n",
    "        abs_errors_n_minus_1 = []\n",
    "        abs_errors_n = []\n",
    "        \n",
    "        # Perform multiple iterations for the current sample size\n",
    "        for _ in range(100):  # Fewer iterations per trial to save time\n",
    "            # Draw a random sample of the current size\n",
    "            samples = np.array(sample(list(population), sample_size))\n",
    "            \n",
    "            # Calculate the sample mean\n",
    "            sample_mean = samples.mean()\n",
    "            \n",
    "            # Calculate sample standard deviations\n",
    "            st_dev_n_minus_1 = np.sqrt(np.sum((samples - sample_mean)**2) / (sample_size - 1))\n",
    "            st_dev_n = np.sqrt(np.sum((samples - sample_mean)**2) / sample_size)\n",
    "            \n",
    "            # Compute the absolute errors\n",
    "            abs_errors_n_minus_1.append(abs(st_dev_n_minus_1 - population_std))\n",
    "            abs_errors_n.append(abs(st_dev_n - population_std))\n",
    "        \n",
    "        # Compare the average errors for this trial\n",
    "        avg_error_n_minus_1 = np.mean(abs_errors_n_minus_1)\n",
    "        avg_error_n = np.mean(abs_errors_n)\n",
    "        \n",
    "        # Increment count if n-1 performs better\n",
    "        if avg_error_n_minus_1 < avg_error_n:\n",
    "            count_n_minus_1_better += 1\n",
    "    \n",
    "    # Store the result for this sample size\n",
    "    results.append((sample_size, count_n_minus_1_better / trials))\n",
    "\n",
    "# Display the results\n",
    "for sample_size, proportion in results:\n",
    "    print(f\"Sample size {sample_size}: n-1 performed better in {proportion:.2%} of trials.\")"
   ]
  }
 ],
 "metadata": {
  "kernelspec": {
   "display_name": "Python 3 (ipykernel)",
   "language": "python",
   "name": "python3"
  },
  "language_info": {
   "codemirror_mode": {
    "name": "ipython",
    "version": 3
   },
   "file_extension": ".py",
   "mimetype": "text/x-python",
   "name": "python",
   "nbconvert_exporter": "python",
   "pygments_lexer": "ipython3",
   "version": "3.8.18"
  }
 },
 "nbformat": 4,
 "nbformat_minor": 5
}
